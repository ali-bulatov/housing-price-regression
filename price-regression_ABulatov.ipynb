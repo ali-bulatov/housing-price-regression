{
  "nbformat": 4,
  "nbformat_minor": 0,
  "metadata": {
    "kernelspec": {
      "display_name": "Python [default]",
      "language": "python",
      "name": "python3"
    },
    "language_info": {
      "codemirror_mode": {
        "name": "ipython",
        "version": 3
      },
      "file_extension": ".py",
      "mimetype": "text/x-python",
      "name": "python",
      "nbconvert_exporter": "python",
      "pygments_lexer": "ipython3",
      "version": "3.5.4"
    },
    "colab": {
      "name": "AI_Assignment2_ABulatov.ipynb",
      "provenance": []
    }
  },
  "cells": [
    {
      "cell_type": "markdown",
      "metadata": {
        "id": "eNvIOmn7KjRg",
        "colab_type": "text"
      },
      "source": [
        "### Alikhan Bulatov \n",
        "\n"
      ]
    },
    {
      "cell_type": "markdown",
      "metadata": {
        "id": "0PPcSXzf3Tsb",
        "colab_type": "text"
      },
      "source": [
        "#Regression\n",
        "\n",
        "Goal is to different models on a given data set, and find the one that performs best"
      ]
    },
    {
      "cell_type": "markdown",
      "metadata": {
        "id": "jrXKG8Jp3Tsd",
        "colab_type": "text"
      },
      "source": [
        "## Getting the data for the assignment"
      ]
    },
    {
      "cell_type": "code",
      "metadata": {
        "id": "Tylsxh3T3Tsf",
        "colab_type": "code",
        "colab": {}
      },
      "source": [
        "import os\n",
        "import tarfile\n",
        "from six.moves import urllib\n",
        "\n",
        "DOWNLOAD_ROOT = \"https://raw.githubusercontent.com/ageron/handson-ml/master/\"\n",
        "HOUSING_PATH = os.path.join(\"datasets\", \"housing\")\n",
        "HOUSING_URL = DOWNLOAD_ROOT + \"datasets/housing/housing.tgz\"\n",
        "\n",
        "def fetch_housing_data(housing_url=HOUSING_URL, housing_path=HOUSING_PATH):\n",
        "    if not os.path.isdir(housing_path):\n",
        "        os.makedirs(housing_path)\n",
        "    tgz_path = os.path.join(housing_path, \"housing.tgz\")\n",
        "    urllib.request.urlretrieve(housing_url, tgz_path)\n",
        "    housing_tgz = tarfile.open(tgz_path)\n",
        "    housing_tgz.extractall(path=housing_path)\n",
        "    housing_tgz.close()"
      ],
      "execution_count": 0,
      "outputs": []
    },
    {
      "cell_type": "code",
      "metadata": {
        "id": "uy5Qo7EH3Tsi",
        "colab_type": "code",
        "colab": {}
      },
      "source": [
        "fetch_housing_data()"
      ],
      "execution_count": 0,
      "outputs": []
    },
    {
      "cell_type": "code",
      "metadata": {
        "id": "lThLZaae3Tsl",
        "colab_type": "code",
        "colab": {}
      },
      "source": [
        "import pandas as pd\n",
        "\n",
        "def load_housing_data(housing_path=HOUSING_PATH):\n",
        "    csv_path = os.path.join(housing_path, \"housing.csv\")\n",
        "    return pd.read_csv(csv_path)"
      ],
      "execution_count": 0,
      "outputs": []
    },
    {
      "cell_type": "code",
      "metadata": {
        "id": "r4LBggCI3Tso",
        "colab_type": "code",
        "outputId": "1c1c915c-6887-4b67-b4d8-cd6ae12f79c2",
        "colab": {
          "base_uri": "https://localhost:8080/",
          "height": 204
        }
      },
      "source": [
        "housing = load_housing_data()\n",
        "housing.head()"
      ],
      "execution_count": 0,
      "outputs": [
        {
          "output_type": "execute_result",
          "data": {
            "text/html": [
              "<div>\n",
              "<style scoped>\n",
              "    .dataframe tbody tr th:only-of-type {\n",
              "        vertical-align: middle;\n",
              "    }\n",
              "\n",
              "    .dataframe tbody tr th {\n",
              "        vertical-align: top;\n",
              "    }\n",
              "\n",
              "    .dataframe thead th {\n",
              "        text-align: right;\n",
              "    }\n",
              "</style>\n",
              "<table border=\"1\" class=\"dataframe\">\n",
              "  <thead>\n",
              "    <tr style=\"text-align: right;\">\n",
              "      <th></th>\n",
              "      <th>longitude</th>\n",
              "      <th>latitude</th>\n",
              "      <th>housing_median_age</th>\n",
              "      <th>total_rooms</th>\n",
              "      <th>total_bedrooms</th>\n",
              "      <th>population</th>\n",
              "      <th>households</th>\n",
              "      <th>median_income</th>\n",
              "      <th>median_house_value</th>\n",
              "      <th>ocean_proximity</th>\n",
              "    </tr>\n",
              "  </thead>\n",
              "  <tbody>\n",
              "    <tr>\n",
              "      <th>0</th>\n",
              "      <td>-122.23</td>\n",
              "      <td>37.88</td>\n",
              "      <td>41.0</td>\n",
              "      <td>880.0</td>\n",
              "      <td>129.0</td>\n",
              "      <td>322.0</td>\n",
              "      <td>126.0</td>\n",
              "      <td>8.3252</td>\n",
              "      <td>452600.0</td>\n",
              "      <td>NEAR BAY</td>\n",
              "    </tr>\n",
              "    <tr>\n",
              "      <th>1</th>\n",
              "      <td>-122.22</td>\n",
              "      <td>37.86</td>\n",
              "      <td>21.0</td>\n",
              "      <td>7099.0</td>\n",
              "      <td>1106.0</td>\n",
              "      <td>2401.0</td>\n",
              "      <td>1138.0</td>\n",
              "      <td>8.3014</td>\n",
              "      <td>358500.0</td>\n",
              "      <td>NEAR BAY</td>\n",
              "    </tr>\n",
              "    <tr>\n",
              "      <th>2</th>\n",
              "      <td>-122.24</td>\n",
              "      <td>37.85</td>\n",
              "      <td>52.0</td>\n",
              "      <td>1467.0</td>\n",
              "      <td>190.0</td>\n",
              "      <td>496.0</td>\n",
              "      <td>177.0</td>\n",
              "      <td>7.2574</td>\n",
              "      <td>352100.0</td>\n",
              "      <td>NEAR BAY</td>\n",
              "    </tr>\n",
              "    <tr>\n",
              "      <th>3</th>\n",
              "      <td>-122.25</td>\n",
              "      <td>37.85</td>\n",
              "      <td>52.0</td>\n",
              "      <td>1274.0</td>\n",
              "      <td>235.0</td>\n",
              "      <td>558.0</td>\n",
              "      <td>219.0</td>\n",
              "      <td>5.6431</td>\n",
              "      <td>341300.0</td>\n",
              "      <td>NEAR BAY</td>\n",
              "    </tr>\n",
              "    <tr>\n",
              "      <th>4</th>\n",
              "      <td>-122.25</td>\n",
              "      <td>37.85</td>\n",
              "      <td>52.0</td>\n",
              "      <td>1627.0</td>\n",
              "      <td>280.0</td>\n",
              "      <td>565.0</td>\n",
              "      <td>259.0</td>\n",
              "      <td>3.8462</td>\n",
              "      <td>342200.0</td>\n",
              "      <td>NEAR BAY</td>\n",
              "    </tr>\n",
              "  </tbody>\n",
              "</table>\n",
              "</div>"
            ],
            "text/plain": [
              "   longitude  latitude  ...  median_house_value  ocean_proximity\n",
              "0    -122.23     37.88  ...            452600.0         NEAR BAY\n",
              "1    -122.22     37.86  ...            358500.0         NEAR BAY\n",
              "2    -122.24     37.85  ...            352100.0         NEAR BAY\n",
              "3    -122.25     37.85  ...            341300.0         NEAR BAY\n",
              "4    -122.25     37.85  ...            342200.0         NEAR BAY\n",
              "\n",
              "[5 rows x 10 columns]"
            ]
          },
          "metadata": {
            "tags": []
          },
          "execution_count": 4
        }
      ]
    },
    {
      "cell_type": "code",
      "metadata": {
        "id": "WsxQa_wn-88t",
        "colab_type": "code",
        "outputId": "e431459e-8a58-4f7d-d8b5-f8e3c264e1f2",
        "colab": {
          "base_uri": "https://localhost:8080/",
          "height": 204
        }
      },
      "source": [
        "housing.loc[0,:]"
      ],
      "execution_count": 0,
      "outputs": [
        {
          "output_type": "execute_result",
          "data": {
            "text/plain": [
              "longitude              -122.23\n",
              "latitude                 37.88\n",
              "housing_median_age          41\n",
              "total_rooms                880\n",
              "total_bedrooms             129\n",
              "population                 322\n",
              "households                 126\n",
              "median_income           8.3252\n",
              "median_house_value      452600\n",
              "ocean_proximity       NEAR BAY\n",
              "Name: 0, dtype: object"
            ]
          },
          "metadata": {
            "tags": []
          },
          "execution_count": 5
        }
      ]
    },
    {
      "cell_type": "markdown",
      "metadata": {
        "id": "5-HkoqYZ4jxU",
        "colab_type": "text"
      },
      "source": [
        "## Preprocessing"
      ]
    },
    {
      "cell_type": "markdown",
      "metadata": {
        "id": "_WRVB4Kv3Tsr",
        "colab_type": "text"
      },
      "source": [
        "### Fix the categories in the categorical variable"
      ]
    },
    {
      "cell_type": "code",
      "metadata": {
        "id": "2e0oKLZj3Tss",
        "colab_type": "code",
        "colab": {}
      },
      "source": [
        "d = {'<1H OCEAN':'LESS_1H_OCEAN', 'INLAND':'INLAND', 'ISLAND':'ISLAND', 'NEAR BAY':'NEAR_BAY', 'NEAR OCEAN':'NEAR_OCEAN'}\n",
        "housing['ocean_proximity'] = housing['ocean_proximity'].map(lambda s: d[s])"
      ],
      "execution_count": 0,
      "outputs": []
    },
    {
      "cell_type": "markdown",
      "metadata": {
        "id": "URKqS1zc3Tsw",
        "colab_type": "text"
      },
      "source": [
        "### Add two more features (feature engineering example)\n",
        "Sometimes it is wise to add additional useful features. This is just an example. A **domain expert** in this area (e.g. an expert real estate consultant), suggested we add these two columns. For a dataset we get, we always can think about additional features we can add to help to get a better model."
      ]
    },
    {
      "cell_type": "code",
      "metadata": {
        "id": "8PgLMdCQ3Tsw",
        "colab_type": "code",
        "colab": {}
      },
      "source": [
        "housing[\"rooms_per_household\"] = housing[\"total_rooms\"]/housing[\"households\"]\n",
        "housing[\"population_per_household\"]=housing[\"population\"]/housing[\"households\"]"
      ],
      "execution_count": 0,
      "outputs": []
    },
    {
      "cell_type": "markdown",
      "metadata": {
        "id": "PvvcmHAC3Ts3",
        "colab_type": "text"
      },
      "source": [
        "### Fix missing data"
      ]
    },
    {
      "cell_type": "code",
      "metadata": {
        "id": "I95FnFhR3Ts4",
        "colab_type": "code",
        "colab": {}
      },
      "source": [
        "median = housing[\"total_bedrooms\"].median()\n",
        "housing[\"total_bedrooms\"].fillna(median, inplace=True) "
      ],
      "execution_count": 0,
      "outputs": []
    },
    {
      "cell_type": "markdown",
      "metadata": {
        "id": "XXeD_KHM3Ts6",
        "colab_type": "text"
      },
      "source": [
        "### Create dummy variables based on the categorical variable"
      ]
    },
    {
      "cell_type": "code",
      "metadata": {
        "id": "fWrEeWNq3Ts7",
        "colab_type": "code",
        "colab": {}
      },
      "source": [
        "one_hot = pd.get_dummies(housing['ocean_proximity'])\n",
        "housing = housing.drop('ocean_proximity', axis=1)\n",
        "housing = housing.join(one_hot)"
      ],
      "execution_count": 0,
      "outputs": []
    },
    {
      "cell_type": "code",
      "metadata": {
        "id": "I8Ap3nBt4vsE",
        "colab_type": "code",
        "outputId": "8ce89bb0-219c-4190-e52c-58f512b1f6cb",
        "colab": {
          "base_uri": "https://localhost:8080/",
          "height": 224
        }
      },
      "source": [
        "housing.head()"
      ],
      "execution_count": 0,
      "outputs": [
        {
          "output_type": "execute_result",
          "data": {
            "text/html": [
              "<div>\n",
              "<style scoped>\n",
              "    .dataframe tbody tr th:only-of-type {\n",
              "        vertical-align: middle;\n",
              "    }\n",
              "\n",
              "    .dataframe tbody tr th {\n",
              "        vertical-align: top;\n",
              "    }\n",
              "\n",
              "    .dataframe thead th {\n",
              "        text-align: right;\n",
              "    }\n",
              "</style>\n",
              "<table border=\"1\" class=\"dataframe\">\n",
              "  <thead>\n",
              "    <tr style=\"text-align: right;\">\n",
              "      <th></th>\n",
              "      <th>longitude</th>\n",
              "      <th>latitude</th>\n",
              "      <th>housing_median_age</th>\n",
              "      <th>total_rooms</th>\n",
              "      <th>total_bedrooms</th>\n",
              "      <th>population</th>\n",
              "      <th>households</th>\n",
              "      <th>median_income</th>\n",
              "      <th>median_house_value</th>\n",
              "      <th>rooms_per_household</th>\n",
              "      <th>population_per_household</th>\n",
              "      <th>INLAND</th>\n",
              "      <th>ISLAND</th>\n",
              "      <th>LESS_1H_OCEAN</th>\n",
              "      <th>NEAR_BAY</th>\n",
              "      <th>NEAR_OCEAN</th>\n",
              "    </tr>\n",
              "  </thead>\n",
              "  <tbody>\n",
              "    <tr>\n",
              "      <th>0</th>\n",
              "      <td>-122.23</td>\n",
              "      <td>37.88</td>\n",
              "      <td>41.0</td>\n",
              "      <td>880.0</td>\n",
              "      <td>129.0</td>\n",
              "      <td>322.0</td>\n",
              "      <td>126.0</td>\n",
              "      <td>8.3252</td>\n",
              "      <td>452600.0</td>\n",
              "      <td>6.984127</td>\n",
              "      <td>2.555556</td>\n",
              "      <td>0</td>\n",
              "      <td>0</td>\n",
              "      <td>0</td>\n",
              "      <td>1</td>\n",
              "      <td>0</td>\n",
              "    </tr>\n",
              "    <tr>\n",
              "      <th>1</th>\n",
              "      <td>-122.22</td>\n",
              "      <td>37.86</td>\n",
              "      <td>21.0</td>\n",
              "      <td>7099.0</td>\n",
              "      <td>1106.0</td>\n",
              "      <td>2401.0</td>\n",
              "      <td>1138.0</td>\n",
              "      <td>8.3014</td>\n",
              "      <td>358500.0</td>\n",
              "      <td>6.238137</td>\n",
              "      <td>2.109842</td>\n",
              "      <td>0</td>\n",
              "      <td>0</td>\n",
              "      <td>0</td>\n",
              "      <td>1</td>\n",
              "      <td>0</td>\n",
              "    </tr>\n",
              "    <tr>\n",
              "      <th>2</th>\n",
              "      <td>-122.24</td>\n",
              "      <td>37.85</td>\n",
              "      <td>52.0</td>\n",
              "      <td>1467.0</td>\n",
              "      <td>190.0</td>\n",
              "      <td>496.0</td>\n",
              "      <td>177.0</td>\n",
              "      <td>7.2574</td>\n",
              "      <td>352100.0</td>\n",
              "      <td>8.288136</td>\n",
              "      <td>2.802260</td>\n",
              "      <td>0</td>\n",
              "      <td>0</td>\n",
              "      <td>0</td>\n",
              "      <td>1</td>\n",
              "      <td>0</td>\n",
              "    </tr>\n",
              "    <tr>\n",
              "      <th>3</th>\n",
              "      <td>-122.25</td>\n",
              "      <td>37.85</td>\n",
              "      <td>52.0</td>\n",
              "      <td>1274.0</td>\n",
              "      <td>235.0</td>\n",
              "      <td>558.0</td>\n",
              "      <td>219.0</td>\n",
              "      <td>5.6431</td>\n",
              "      <td>341300.0</td>\n",
              "      <td>5.817352</td>\n",
              "      <td>2.547945</td>\n",
              "      <td>0</td>\n",
              "      <td>0</td>\n",
              "      <td>0</td>\n",
              "      <td>1</td>\n",
              "      <td>0</td>\n",
              "    </tr>\n",
              "    <tr>\n",
              "      <th>4</th>\n",
              "      <td>-122.25</td>\n",
              "      <td>37.85</td>\n",
              "      <td>52.0</td>\n",
              "      <td>1627.0</td>\n",
              "      <td>280.0</td>\n",
              "      <td>565.0</td>\n",
              "      <td>259.0</td>\n",
              "      <td>3.8462</td>\n",
              "      <td>342200.0</td>\n",
              "      <td>6.281853</td>\n",
              "      <td>2.181467</td>\n",
              "      <td>0</td>\n",
              "      <td>0</td>\n",
              "      <td>0</td>\n",
              "      <td>1</td>\n",
              "      <td>0</td>\n",
              "    </tr>\n",
              "  </tbody>\n",
              "</table>\n",
              "</div>"
            ],
            "text/plain": [
              "   longitude  latitude  housing_median_age  ...  LESS_1H_OCEAN  NEAR_BAY  NEAR_OCEAN\n",
              "0    -122.23     37.88                41.0  ...              0         1           0\n",
              "1    -122.22     37.86                21.0  ...              0         1           0\n",
              "2    -122.24     37.85                52.0  ...              0         1           0\n",
              "3    -122.25     37.85                52.0  ...              0         1           0\n",
              "4    -122.25     37.85                52.0  ...              0         1           0\n",
              "\n",
              "[5 rows x 16 columns]"
            ]
          },
          "metadata": {
            "tags": []
          },
          "execution_count": 10
        }
      ]
    },
    {
      "cell_type": "markdown",
      "metadata": {
        "id": "aqBUJvB93Ts_",
        "colab_type": "text"
      },
      "source": [
        "### Check the data"
      ]
    },
    {
      "cell_type": "code",
      "metadata": {
        "id": "6Fi8id3O3Ts_",
        "colab_type": "code",
        "outputId": "6c393bd2-c452-4ef0-c30c-6d7e70375431",
        "colab": {
          "base_uri": "https://localhost:8080/",
          "height": 374
        }
      },
      "source": [
        "housing.info()"
      ],
      "execution_count": 0,
      "outputs": [
        {
          "output_type": "stream",
          "text": [
            "<class 'pandas.core.frame.DataFrame'>\n",
            "RangeIndex: 20640 entries, 0 to 20639\n",
            "Data columns (total 16 columns):\n",
            "longitude                   20640 non-null float64\n",
            "latitude                    20640 non-null float64\n",
            "housing_median_age          20640 non-null float64\n",
            "total_rooms                 20640 non-null float64\n",
            "total_bedrooms              20640 non-null float64\n",
            "population                  20640 non-null float64\n",
            "households                  20640 non-null float64\n",
            "median_income               20640 non-null float64\n",
            "median_house_value          20640 non-null float64\n",
            "rooms_per_household         20640 non-null float64\n",
            "population_per_household    20640 non-null float64\n",
            "INLAND                      20640 non-null uint8\n",
            "ISLAND                      20640 non-null uint8\n",
            "LESS_1H_OCEAN               20640 non-null uint8\n",
            "NEAR_BAY                    20640 non-null uint8\n",
            "NEAR_OCEAN                  20640 non-null uint8\n",
            "dtypes: float64(11), uint8(5)\n",
            "memory usage: 1.8 MB\n"
          ],
          "name": "stdout"
        }
      ]
    },
    {
      "cell_type": "markdown",
      "metadata": {
        "id": "C5xiH1zJ3TtC",
        "colab_type": "text"
      },
      "source": [
        "# Regression"
      ]
    },
    {
      "cell_type": "markdown",
      "metadata": {
        "id": "yE4KnD7b3TtD",
        "colab_type": "text"
      },
      "source": [
        "### 1. Partition into train and test\n",
        "\n",
        "Use train_test_split from sklearn.model_selection to partition the dataset into 70% for training and 30% for testing.\n",
        "\n",
        "You can use the 70% for training set as both training and validation by using cross-validation.\n",
        "\n",
        "Use random state of 123\n"
      ]
    },
    {
      "cell_type": "code",
      "metadata": {
        "id": "XNn_-T4f3TtE",
        "colab_type": "code",
        "colab": {}
      },
      "source": [
        "from sklearn.model_selection import train_test_split\n",
        "train_set, test_set = train_test_split(housing, test_size=0.3, random_state=123)"
      ],
      "execution_count": 0,
      "outputs": []
    },
    {
      "cell_type": "markdown",
      "metadata": {
        "id": "vYF91zQC3TtG",
        "colab_type": "text"
      },
      "source": [
        "### Features"
      ]
    },
    {
      "cell_type": "code",
      "metadata": {
        "id": "PQqjJya_3TtH",
        "colab_type": "code",
        "colab": {}
      },
      "source": [
        "target = 'median_house_value'\n",
        "features = list(train_set.columns)\n",
        "features = [f for f in features if f!=target]"
      ],
      "execution_count": 0,
      "outputs": []
    },
    {
      "cell_type": "code",
      "metadata": {
        "id": "gLsobonX3TtL",
        "colab_type": "code",
        "colab": {}
      },
      "source": [
        "X_tr = train_set[features]\n",
        "y_tr = train_set[[target]]\n",
        "\n",
        "X_te = test_set[features]\n",
        "y_te = test_set[[target]]"
      ],
      "execution_count": 0,
      "outputs": []
    },
    {
      "cell_type": "markdown",
      "metadata": {
        "id": "56OjN8uT3TtO",
        "colab_type": "text"
      },
      "source": [
        "### 2. Polynomial transformations"
      ]
    },
    {
      "cell_type": "markdown",
      "metadata": {
        "id": "LuPNcAwV3TtO",
        "colab_type": "text"
      },
      "source": [
        "### Use PolynomialFeatures from sklearn.preprocessing\n",
        "\n",
        "The idea of linear regression is based on linear combination of features. What if the best regression model is not linear? For example if it look like a curve? You know that curve functions are not linear. For example if we have one feautre, what if $y = x^2$ is actual curve the regressor model should predict? Linear Regression is not capable of creating a curve like that. But `PolynomialFeatures` trick will solve this issue for us. It adds additional column to our feature matrix, which are some powers of the current feature. Please take a look at documentation [here](https://scikit-learn.org/stable/modules/generated/sklearn.preprocessing.PolynomialFeatures.html)."
      ]
    },
    {
      "cell_type": "code",
      "metadata": {
        "id": "z-QfO9LB3TtP",
        "colab_type": "code",
        "colab": {}
      },
      "source": [
        "from sklearn.preprocessing import PolynomialFeatures\n",
        "poly = PolynomialFeatures(2)\n",
        "poly.fit(X_tr)\n",
        "X_tr = poly.fit_transform(X_tr)\n",
        "X_te = poly.fit_transform(X_te)"
      ],
      "execution_count": 0,
      "outputs": []
    },
    {
      "cell_type": "markdown",
      "metadata": {
        "id": "5OD67xBr3TtS",
        "colab_type": "text"
      },
      "source": [
        "##### You should obtain X_tr and X_te with 136 columns each, since originally you had 15 features.\n",
        "\n",
        "##### With m original features, the new added polynomial features of degree 2 are: $(m^2-m)/2+m+1$. Why?\n",
        "\n",
        "##### These, plus the original features gives a total of  $(m^2-m)/2+2m+1$"
      ]
    },
    {
      "cell_type": "code",
      "metadata": {
        "id": "5Bb3do-N3TtT",
        "colab_type": "code",
        "outputId": "62e8038b-63ea-4ee0-f015-6ed26e0d6496",
        "colab": {
          "base_uri": "https://localhost:8080/",
          "height": 51
        }
      },
      "source": [
        "print(\"Original number of features: \"+str(len(features)))\n",
        "print(\"Final number of features: \"+str(X_tr.shape[1]))"
      ],
      "execution_count": 0,
      "outputs": [
        {
          "output_type": "stream",
          "text": [
            "Original number of features: 15\n",
            "Final number of features: 136\n"
          ],
          "name": "stdout"
        }
      ]
    },
    {
      "cell_type": "markdown",
      "metadata": {
        "id": "sAoJJiQo3TtW",
        "colab_type": "text"
      },
      "source": [
        "### 3. Scaling features"
      ]
    },
    {
      "cell_type": "markdown",
      "metadata": {
        "id": "_tjDULAd3TtW",
        "colab_type": "text"
      },
      "source": [
        "Similarly, use StandardScaler from sklearn.preprocessing to normalize the training and testing data, using the training data"
      ]
    },
    {
      "cell_type": "code",
      "metadata": {
        "id": "3FktqGMJ3TtX",
        "colab_type": "code",
        "colab": {}
      },
      "source": [
        "from sklearn.preprocessing import StandardScaler\n",
        "scaler = StandardScaler()\n",
        "scaler.fit(X_tr)\n",
        "X_tr = scaler.fit_transform(X_tr)\n",
        "X_te = scaler.fit_transform(X_te)"
      ],
      "execution_count": 0,
      "outputs": []
    },
    {
      "cell_type": "markdown",
      "metadata": {
        "id": "ARmHGJOw3Tta",
        "colab_type": "text"
      },
      "source": [
        "#### Comparing models"
      ]
    },
    {
      "cell_type": "code",
      "metadata": {
        "id": "DjKCwWNk3Ttb",
        "colab_type": "code",
        "colab": {}
      },
      "source": [
        "from sklearn.model_selection import cross_val_score\n",
        "from sklearn.model_selection import GridSearchCV\n",
        "import numpy as np\n",
        "\n",
        "def display_scores(scores):\n",
        "    print(\"Scores:\", scores)\n",
        "    print(\"Mean:\", scores.mean())"
      ],
      "execution_count": 0,
      "outputs": []
    },
    {
      "cell_type": "markdown",
      "metadata": {
        "id": "Z-VWBxY83Tte",
        "colab_type": "text"
      },
      "source": [
        "### 4. Linear regression on original features (no transformations) --- benchmark\n",
        "\n",
        "#### Your goal is to find the model that minimizes the RMSE score. Read more [here](https://scikit-learn.org/stable/modules/model_evaluation.html#common-cases-predefined-values) and [here](https://scikit-learn.org/stable/modules/model_evaluation.html#mean-squared-error) (It is similar to Accuracy metric for Classification)"
      ]
    },
    {
      "cell_type": "code",
      "metadata": {
        "id": "27Lt4FCh3Ttf",
        "colab_type": "code",
        "outputId": "ddb6b7bb-1e1f-4e10-8b01-ec043b1e9400",
        "colab": {
          "base_uri": "https://localhost:8080/",
          "height": 51
        }
      },
      "source": [
        "from sklearn.linear_model import LinearRegression\n",
        "lin_scores = cross_val_score(LinearRegression(), train_set[features], train_set[target], scoring=\"neg_mean_squared_error\", cv=4)\n",
        "lin_rmse_scores = np.sqrt(-lin_scores)\n",
        "display_scores(lin_rmse_scores)"
      ],
      "execution_count": 0,
      "outputs": [
        {
          "output_type": "stream",
          "text": [
            "Scores: [68447.82279847 69777.52395334 68778.95097477 68915.51212139]\n",
            "Mean: 68979.95246199444\n"
          ],
          "name": "stdout"
        }
      ]
    },
    {
      "cell_type": "markdown",
      "metadata": {
        "id": "o0EQL7jI3Tth",
        "colab_type": "text"
      },
      "source": [
        "### 5. Linear regression  (on transformed features: polynomial transformation + scaling)"
      ]
    },
    {
      "cell_type": "markdown",
      "metadata": {
        "id": "Wi44rlxZ3Tti",
        "colab_type": "text"
      },
      "source": [
        "Now do as in 4 but with the original and transformed features (136 features)"
      ]
    },
    {
      "cell_type": "code",
      "metadata": {
        "id": "q0-hK6cW3Ttj",
        "colab_type": "code",
        "outputId": "042a2db1-318d-4bf2-cb5b-2a0a57999506",
        "colab": {
          "base_uri": "https://localhost:8080/",
          "height": 51
        }
      },
      "source": [
        "lin_scores = cross_val_score(LinearRegression(), X_tr, y_tr, scoring=\"neg_mean_squared_error\", cv=4)\n",
        "lin_rmse_scores = np.sqrt(-lin_scores)\n",
        "display_scores(lin_rmse_scores)"
      ],
      "execution_count": 0,
      "outputs": [
        {
          "output_type": "stream",
          "text": [
            "Scores: [3.42297965e+13 6.25723991e+04 6.17260337e+04 2.07983224e+16]\n",
            "Mean: 5208138048277104.0\n"
          ],
          "name": "stdout"
        }
      ]
    },
    {
      "cell_type": "markdown",
      "metadata": {
        "id": "lxBttJIG3Ttl",
        "colab_type": "text"
      },
      "source": [
        "If the error on the cross-validation is too high it is because the model is over-fitting. Regularization is needed."
      ]
    },
    {
      "cell_type": "markdown",
      "metadata": {
        "id": "lFIoTdEH3Ttl",
        "colab_type": "text"
      },
      "source": [
        "### 6. Ridge regression (A regularized version of Linear Regression)"
      ]
    },
    {
      "cell_type": "code",
      "metadata": {
        "id": "Z_Fk220p3Ttm",
        "colab_type": "code",
        "outputId": "44421b16-cd8f-489d-ab30-fc3e6f66889f",
        "colab": {
          "base_uri": "https://localhost:8080/",
          "height": 153
        }
      },
      "source": [
        "from sklearn.linear_model import Ridge\n",
        "param_grid = [{'alpha': [0.001,0.01,0.1,1,10,100,1000,1000]}]\n",
        "grid_search_rr = GridSearchCV(Ridge(), param_grid, cv=3, scoring='neg_mean_squared_error')\n",
        "grid_search_rr.fit(X_tr, y_tr)"
      ],
      "execution_count": 0,
      "outputs": [
        {
          "output_type": "execute_result",
          "data": {
            "text/plain": [
              "GridSearchCV(cv=3, error_score=nan,\n",
              "             estimator=Ridge(alpha=1.0, copy_X=True, fit_intercept=True,\n",
              "                             max_iter=None, normalize=False, random_state=None,\n",
              "                             solver='auto', tol=0.001),\n",
              "             iid='deprecated', n_jobs=None,\n",
              "             param_grid=[{'alpha': [0.001, 0.01, 0.1, 1, 10, 100, 1000, 1000]}],\n",
              "             pre_dispatch='2*n_jobs', refit=True, return_train_score=False,\n",
              "             scoring='neg_mean_squared_error', verbose=0)"
            ]
          },
          "metadata": {
            "tags": []
          },
          "execution_count": 21
        }
      ]
    },
    {
      "cell_type": "code",
      "metadata": {
        "id": "Ij2BBwP93Ttp",
        "colab_type": "code",
        "outputId": "ed03e83b-391d-49d6-bfcf-b13b0e991c12",
        "colab": {
          "base_uri": "https://localhost:8080/",
          "height": 51
        }
      },
      "source": [
        "print(grid_search_rr.best_params_)\n",
        "print(np.sqrt(-grid_search_rr.best_score_))"
      ],
      "execution_count": 0,
      "outputs": [
        {
          "output_type": "stream",
          "text": [
            "{'alpha': 1000}\n",
            "67718.30356942998\n"
          ],
          "name": "stdout"
        }
      ]
    },
    {
      "cell_type": "markdown",
      "metadata": {
        "id": "H_fwwsey3Ttr",
        "colab_type": "text"
      },
      "source": [
        "### 7. Lasso regression (A regularized version of Linear Regression)\n",
        "\n",
        "Now do the same as in 6 but with Lasso"
      ]
    },
    {
      "cell_type": "code",
      "metadata": {
        "id": "jSEHHqlT3Tts",
        "colab_type": "code",
        "outputId": "14eb789a-0f07-4edc-c70d-6c07a110f961",
        "colab": {
          "base_uri": "https://localhost:8080/",
          "height": 51
        }
      },
      "source": [
        "from sklearn.linear_model import Lasso\n",
        "param_grid_lr = [{'alpha': [0.001,0.01,0.1,1,10,100,1000,1000]}]\n",
        "grid_search_lr = GridSearchCV(Lasso(tol=1), param_grid_lr, cv=3, scoring='neg_mean_squared_error')\n",
        "grid_search_lr.fit(X_tr, y_tr)\n",
        "print(grid_search_lr.best_params_)\n",
        "print(np.sqrt(-grid_search_lr.best_score_))"
      ],
      "execution_count": 0,
      "outputs": [
        {
          "output_type": "stream",
          "text": [
            "{'alpha': 1000}\n",
            "68668.7924536196\n"
          ],
          "name": "stdout"
        }
      ]
    },
    {
      "cell_type": "markdown",
      "metadata": {
        "id": "6neGGEB63Ttu",
        "colab_type": "text"
      },
      "source": [
        "### 8. Elastic Net Regression (Combination of Lasso and Ridge)\n",
        "\n",
        "Do the same as in 6 and 7, but now with Elastic Net (Another modified version of Linear Regression). However, the grid search should be over the parameters alpha and  l 1ratio. Use just 3 values for l1_ratio."
      ]
    },
    {
      "cell_type": "code",
      "metadata": {
        "id": "0hVMpGQn3Ttv",
        "colab_type": "code",
        "outputId": "d2f8fa90-b802-42a2-fbb0-fb19c841ffa3",
        "colab": {
          "base_uri": "https://localhost:8080/",
          "height": 51
        }
      },
      "source": [
        "from sklearn.linear_model import ElasticNet\n",
        "param_grid_enr = [{'alpha': [0.001,0.01,0.1,1,10,100,1000,1000],'l1_ratio': [0,0.5,1]}]\n",
        "grid_search_enr = GridSearchCV(ElasticNet(tol=1), param_grid_enr, cv=3, scoring='neg_mean_squared_error')\n",
        "grid_search_enr.fit(X_tr, y_tr)\n",
        "print(grid_search_enr.best_params_)\n",
        "print(np.sqrt(-grid_search_enr.best_score_))"
      ],
      "execution_count": 0,
      "outputs": [
        {
          "output_type": "stream",
          "text": [
            "{'alpha': 1000, 'l1_ratio': 1}\n",
            "68668.7924536196\n"
          ],
          "name": "stdout"
        }
      ]
    },
    {
      "cell_type": "markdown",
      "metadata": {
        "id": "jaDfqSns3Tty",
        "colab_type": "text"
      },
      "source": [
        "### Evaluating your best model on TESTING data\n",
        "\n",
        "Choose among grid_search_rr, grid_search_lr, and grid_search_enr, the model with best performance"
      ]
    },
    {
      "cell_type": "code",
      "metadata": {
        "id": "pictOuu93Tty",
        "colab_type": "code",
        "outputId": "6cd9ecbc-3b26-4436-88a7-06a17e0c49fb",
        "colab": {
          "base_uri": "https://localhost:8080/",
          "height": 34
        }
      },
      "source": [
        "# Ridge regression is the best model\n",
        "from sklearn.metrics import mean_squared_error\n",
        "\n",
        "final_model = grid_search_rr.best_estimator_   ## grid_search SHOULD BE THE BEST GRID SEARCH ##\n",
        "\n",
        "y_te_estimation = final_model.predict(X_te)\n",
        "\n",
        "final_mse = mean_squared_error(y_te, y_te_estimation)\n",
        "final_rmse = np.sqrt(final_mse)\n",
        "print(final_rmse)"
      ],
      "execution_count": 0,
      "outputs": [
        {
          "output_type": "stream",
          "text": [
            "65528.76651700726\n"
          ],
          "name": "stdout"
        }
      ]
    },
    {
      "cell_type": "code",
      "metadata": {
        "id": "l77MGktK3Tt1",
        "colab_type": "code",
        "outputId": "1a57fdd5-7f36-4baa-9cc8-fc44f81776e5",
        "colab": {
          "base_uri": "https://localhost:8080/",
          "height": 269
        }
      },
      "source": [
        "import matplotlib.pyplot as plt\n",
        "\n",
        "plt.scatter(x=y_te, y=y_te_estimation)\n",
        "plt.xlim([-200000,800000])\n",
        "plt.ylim([-200000,800000])\n",
        "plt.show()"
      ],
      "execution_count": 0,
      "outputs": [
        {
          "output_type": "display_data",
          "data": {
            "image/png": "[encoded data removed]",
            "text/plain": [
              "<Figure size 432x288 with 1 Axes>"
            ]
          },
          "metadata": {
            "tags": []
          }
        }
      ]
    },
    {
      "cell_type": "markdown",
      "metadata": {
        "colab_type": "text",
        "id": "1dV7PAq1dSUV"
      },
      "source": [
        "* Predict the price for a new data point"
      ]
    },
    {
      "cell_type": "code",
      "metadata": {
        "id": "wgXY1yzF9EIa",
        "colab_type": "code",
        "outputId": "83568f9b-2e9f-470b-818d-6a20fbcbed93",
        "colab": {
          "base_uri": "https://localhost:8080/",
          "height": 34
        }
      },
      "source": [
        "# import data point\n",
        "data_point_features = [-124.23,36.88,51,950,211,453,189,8.5241,950/189,453/189,0,0,0,1,0]\n",
        "X_dp = pd.DataFrame([data_point_features],columns=['longitude','latitude','housing_median_age','total_rooms','total_bedrooms','population','households','median_income',\n",
        "                                              'rooms_per_household','population_per_household','INLAND','ISLAND','LESS_1H_OCEAN','NEAR_BAY','NEAR_OCEAN'])\n",
        "# add polynomial features\n",
        "poly = PolynomialFeatures(2)\n",
        "poly.fit(X_dp)\n",
        "X_dp = poly.fit_transform(X_dp)\n",
        "# scale the data\n",
        "scaler = StandardScaler()\n",
        "scaler.fit(X_dp)\n",
        "X_dp = scaler.fit_transform(X_dp)\n",
        "# predict the price\n",
        "prediction = final_model.predict(X_dp)\n",
        "print('predicted value of a new data points is ',prediction)"
      ],
      "execution_count": 0,
      "outputs": [
        {
          "output_type": "stream",
          "text": [
            "predicted value of a new data points is  [[207517.62022426]]\n"
          ],
          "name": "stdout"
        }
      ]
    },
    {
      "cell_type": "markdown",
      "metadata": {
        "id": "_XYP5okQ9G0e",
        "colab_type": "text"
      },
      "source": [
        "## Predict a new 'median_house_value'\n",
        "\n",
        "Assume you created the best model and deploy it on production server. A new house comes to market with the following features. What is your prediction for its `median_house_value` ?\n",
        "(Do not forget you need to apply preprocessing steps such as scaling)\n",
        "\n",
        "\n",
        "```\n",
        "longitude              -124.23\n",
        "latitude                 36.88\n",
        "housing_median_age          51\n",
        "total_rooms                950\n",
        "total_bedrooms             211\n",
        "population                 453\n",
        "households                 189\n",
        "median_income           8.5241\n",
        "median_house_value      452600\n",
        "ocean_proximity       NEAR BAY\n",
        "```"
      ]
    },
    {
      "cell_type": "markdown",
      "metadata": {
        "id": "E4_M2oVw3Tt3",
        "colab_type": "text"
      },
      "source": [
        "### Question: Before you computed the final_rmse on the test data, what was your expected value for this quantity? Does your best model have high variance?"
      ]
    },
    {
      "cell_type": "code",
      "metadata": {
        "id": "CLd28Yb9-y6X",
        "colab_type": "code",
        "outputId": "e7fcaa64-0054-4ebe-f146-86d45820af0c",
        "colab": {
          "base_uri": "https://localhost:8080/",
          "height": 34
        }
      },
      "source": [
        "from sklearn.metrics import explained_variance_score\n",
        "\n",
        "print(explained_variance_score(y_te_estimation, y_te))"
      ],
      "execution_count": 0,
      "outputs": [
        {
          "output_type": "stream",
          "text": [
            "0.5135382918307603\n"
          ],
          "name": "stdout"
        }
      ]
    },
    {
      "cell_type": "markdown",
      "metadata": {
        "collapsed": true,
        "id": "8yNUfrue3Tt4",
        "colab_type": "text"
      },
      "source": [
        "I expected the final_rmse to be lower that the previous rmse calculated before. \n",
        "It was 68979.95246199444 before and became 65528.76651700726 which is a resonable improvement.\n",
        "\n",
        "The model has a variance of 0.51 which is a moderate variance\n"
      ]
    }
  ]
}